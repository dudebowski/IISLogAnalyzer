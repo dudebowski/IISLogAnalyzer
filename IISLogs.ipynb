{
 "cells": [
  {
   "cell_type": "code",
   "execution_count": null,
   "metadata": {},
   "outputs": [],
   "source": [
    "# all imports\n",
    "from matplotlib import pyplot\n",
    "from matplotlib.pyplot import figure\n",
    "import pandas as pd\n",
    "import pandas_profiling\n",
    "import numpy as np\n",
    "import math\n",
    "import glob\n",
    "import os"
   ]
  },
  {
   "cell_type": "code",
   "execution_count": null,
   "metadata": {},
   "outputs": [],
   "source": [
    "# modify the directory to point to the proper log dir\n",
    "sourceDir='.'\n",
    "# modify to handle all log fields present in your logs\n",
    "log_field_names = ['date', 'time', 's-ip', 'cs-method', 'cs-uri-stem', 'cs-uri-query', 's-port', 'cs-username', 'c-ip',\n",
    "                   'cs(User-Agent)', 'cs(Referer)', 'sc-status', 'sc-substatus', 'sc-win32-status', 'time-taken']"
   ]
  },
  {
   "cell_type": "code",
   "execution_count": null,
   "metadata": {},
   "outputs": [],
   "source": [
    "df = pd.DataFrame()\n",
    "i=0\n",
    "for filename in  glob.glob(sourceDir + '/**/*.log', recursive=True):\n",
    "    df_temp = pd.read_csv(filename, sep=' ', parse_dates=[[0,1]], comment='#', engine='python', names=log_field_names)\n",
    "    df = df.append(df_temp, ignore_index=True)\n",
    "    i = i+1\n",
    "    if i>10 : break"
   ]
  },
  {
   "cell_type": "code",
   "execution_count": null,
   "metadata": {},
   "outputs": [],
   "source": [
    "df=df[['date_time', 'cs-uri-stem','time-taken']]\n",
    "index = pd.DatetimeIndex(df['date_time']) "
   ]
  },
  {
   "cell_type": "code",
   "execution_count": null,
   "metadata": {},
   "outputs": [],
   "source": [
    "df['time-taken'].plot(marker='.', alpha=0.5, linestyle='None', figsize=(11, 9), subplots=True);"
   ]
  },
  {
   "cell_type": "code",
   "execution_count": null,
   "metadata": {},
   "outputs": [],
   "source": [
    "df.columns = df.columns.str.strip().str.lower().str.replace('-', '_')\n",
    "df.columns"
   ]
  },
  {
   "cell_type": "code",
   "execution_count": null,
   "metadata": {
    "scrolled": false
   },
   "outputs": [],
   "source": [
    "pd.options.mode.chained_assignment = None  # surpress silly warnings\n",
    "pyplot.rcParams['figure.figsize'] = [20, 30]\n",
    "bins = np.array([0,250,500,750,1000,2000,5000,10000,20000,50000,100000])\n",
    "df[\"bucket\"] = pd.cut(df.time_taken, bins)\n",
    "df['bucket'].value_counts().sort_index().plot(kind='bar')"
   ]
  },
  {
   "cell_type": "code",
   "execution_count": null,
   "metadata": {},
   "outputs": [],
   "source": [
    "pyplot.rcParams['figure.figsize'] = [20, 20]\n",
    "url ='/UMO/Services/LoginService/LoginService.svc/json/login'\n",
    "logins = df.loc[df.Url== url]                   \n",
    "logins['bucket'].value_counts().sort_index().plot(kind='bar')"
   ]
  },
  {
   "cell_type": "code",
   "execution_count": null,
   "metadata": {
    "scrolled": true
   },
   "outputs": [],
   "source": [
    "pyplot.rcParams['figure.figsize'] = [20, 600]\n",
    "urls = df.cs_uri_stem.unique()\n",
    "i=1\n",
    "for url in urls:\n",
    "    pyplot.subplot(len(urls), 1, i)\n",
    "    df_plot = df.loc[df.cs_uri_stem== url]\n",
    "    pyplot.scatter(df_plot['date_time'], df_plot['time_taken'])\n",
    "    pyplot.title(url.strip('/UMO/Services/'))\n",
    "    i=i+1\n",
    "    pyplot.show()        \n",
    "    if i>10: break\n"
   ]
  },
  {
   "cell_type": "code",
   "execution_count": null,
   "metadata": {
    "scrolled": false
   },
   "outputs": [],
   "source": [
    "pyplot.rcParams['figure.figsize'] = [20, 20]\n",
    "urls = df.cs_uri_stem.unique()\n",
    "i=1\n",
    "for url in urls: \n",
    "    plotter = df.loc[df.cs_uri_stem== url]                   \n",
    "    plotter['bucket'].value_counts().sort_index().plot(kind='bar')\n",
    "    pyplot.title(url.strip('/UMO/Services/'))\n",
    "    i=i+1\n",
    "    pyplot.show()\n",
    "    if i>10: break"
   ]
  },
  {
   "cell_type": "code",
   "execution_count": null,
   "metadata": {
    "scrolled": true
   },
   "outputs": [],
   "source": [
    "df.groupby('cs_uri_stem')['time_taken'].mean()"
   ]
  },
  {
   "cell_type": "code",
   "execution_count": null,
   "metadata": {
    "scrolled": false
   },
   "outputs": [],
   "source": [
    "df1['bucket'].value_counts().sort_index().plot(kind='bar')"
   ]
  },
  {
   "cell_type": "code",
   "execution_count": null,
   "metadata": {},
   "outputs": [],
   "source": [
    "grouped = df.groupby(['cs_uri_stem', 'bucket']).size()\n",
    "grouped.head(10)"
   ]
  },
  {
   "cell_type": "code",
   "execution_count": null,
   "metadata": {
    "scrolled": false
   },
   "outputs": [],
   "source": [
    "#bins = np.array([0,5,25,50,150,250,1000,5000,10000])\n",
    "bins = np.array([0,250,1000,2000,5000,10000])\n",
    "pyplot.rcParams['figure.figsize'] = [20, 20]\n",
    "df1['bucket'].hist(by=df['Url'],bins=bins)"
   ]
  },
  {
   "cell_type": "code",
   "execution_count": null,
   "metadata": {},
   "outputs": [],
   "source": [
    "#Analyze Data\n",
    "#df.describe(percentiles  = [.10, .20, .30, .40,.45 ,.50,.55 ,.60,.65,.70, .75, .80, .85, .90,.95,.96,.97,.98,.99])\n",
    "#df.dtypes1\n",
    "#df.profile_report()\n",
    "#df\n",
    "#df.Url.unique()\n",
    "#df.loc[df.TimeTaken > 20000].Url.value_counts()\n",
    "#df.groupby('Url')['TimeTaken '].mean()\n",
    "#df.Url.value_counts()\n",
    "#bins\n",
    "#df.nlargest(50, 'TimeTaken').min().TimeTaken"
   ]
  }
 ],
 "metadata": {
  "kernelspec": {
   "display_name": "Python 3",
   "language": "python",
   "name": "python3"
  },
  "language_info": {
   "codemirror_mode": {
    "name": "ipython",
    "version": 3
   },
   "file_extension": ".py",
   "mimetype": "text/x-python",
   "name": "python",
   "nbconvert_exporter": "python",
   "pygments_lexer": "ipython3",
   "version": "3.7.3"
  }
 },
 "nbformat": 4,
 "nbformat_minor": 2
}
